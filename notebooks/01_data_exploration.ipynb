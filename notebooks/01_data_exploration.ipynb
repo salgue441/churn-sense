{
 "cells": [
  {
   "cell_type": "markdown",
   "id": "a581eec0",
   "metadata": {},
   "source": [
    "# Customer Churn Analysis & Prediction\n",
    "\n",
    "## Project Overview\n",
    "\n",
    "This notebook analyzes customer churn patterns in telecom data, identifies key drivers of customer attrition,\n",
    "and builds predictive models to help reduce churn rates and increase customer retention.\n",
    "\n",
    "**Key Business Question**: What factors influence customer churn and how can we predict at-risk customers?\n"
   ]
  },
  {
   "cell_type": "markdown",
   "id": "12ff54dc",
   "metadata": {},
   "source": [
    "## 1.0 Environment Setup\n"
   ]
  },
  {
   "cell_type": "markdown",
   "id": "5d88531f",
   "metadata": {},
   "source": [
    "### 1.1 Library Imports\n",
    "\n",
    "Standard libraries\n"
   ]
  },
  {
   "cell_type": "code",
   "execution_count": null,
   "id": "e3113d68",
   "metadata": {},
   "outputs": [],
   "source": [
    "import numpy as np\n",
    "import pandas as pd\n",
    "import matplotlib.pyplot as plt\n",
    "import seaborn as sns\n",
    "from scipy import stats\n",
    "import warnings\n",
    "import time\n",
    "from pathlib import Path\n",
    "import joblib"
   ]
  },
  {
   "cell_type": "markdown",
   "id": "ed14c452",
   "metadata": {},
   "source": [
    "Interactive visualization libraries\n"
   ]
  },
  {
   "cell_type": "code",
   "execution_count": null,
   "id": "3f49e08b",
   "metadata": {},
   "outputs": [],
   "source": [
    "import plotly.express as px\n",
    "import plotly.graph_objects as go\n",
    "from plotly.subplots import make_subplots\n",
    "import missingno as msno"
   ]
  },
  {
   "cell_type": "markdown",
   "id": "55b02772",
   "metadata": {},
   "source": [
    "Machine learning libraries\n"
   ]
  },
  {
   "cell_type": "code",
   "execution_count": null,
   "id": "55f6db3f",
   "metadata": {},
   "outputs": [],
   "source": [
    "from sklearn.preprocessing import StandardScaler, OneHotEncoder\n",
    "from sklearn.compose import ColumnTransformer\n",
    "from sklearn.pipeline import Pipeline\n",
    "from sklearn.model_selection import (\n",
    "    train_test_split,\n",
    "    cross_val_score,\n",
    "    StratifiedKFold,\n",
    "    GridSearchCV,\n",
    ")\n",
    "from sklearn.metrics import (\n",
    "    classification_report,\n",
    "    confusion_matrix,\n",
    "    roc_curve,\n",
    "    auc,\n",
    "    precision_recall_curve,\n",
    "    average_precision_score,\n",
    "    f1_score,\n",
    "    roc_auc_score,\n",
    ")"
   ]
  },
  {
   "cell_type": "markdown",
   "id": "326c5647",
   "metadata": {},
   "source": [
    "Import models\n"
   ]
  },
  {
   "cell_type": "code",
   "execution_count": null,
   "id": "5783e166",
   "metadata": {},
   "outputs": [],
   "source": [
    "from sklearn.linear_model import LogisticRegression\n",
    "from sklearn.ensemble import RandomForestClassifier, GradientBoostingClassifier\n",
    "from sklearn.svm import SVC\n",
    "from xgboost import XGBClassifier\n",
    "from lightgbm import LGBMClassifier"
   ]
  },
  {
   "cell_type": "markdown",
   "id": "c1a37da2",
   "metadata": {},
   "source": [
    "Clustering and dimensionality reduction\n"
   ]
  },
  {
   "cell_type": "code",
   "execution_count": null,
   "id": "5bbe80e5",
   "metadata": {},
   "outputs": [],
   "source": [
    "from sklearn.decomposition import PCA\n",
    "from sklearn.manifold import TSNE\n",
    "from sklearn.cluster import KMeans"
   ]
  },
  {
   "cell_type": "markdown",
   "id": "39b7bd50",
   "metadata": {},
   "source": [
    "### 1.2 Configure Environment\n"
   ]
  },
  {
   "cell_type": "code",
   "execution_count": null,
   "id": "4f8cac87",
   "metadata": {},
   "outputs": [],
   "source": [
    "plt.style.use(\"seaborn-v0_8-whitegrid\")"
   ]
  },
  {
   "cell_type": "code",
   "execution_count": null,
   "id": "33e2452c",
   "metadata": {},
   "outputs": [],
   "source": [
    "custom_palette = [\n",
    "    \"#4e79a7\",\n",
    "    \"#f28e2b\",\n",
    "    \"#e15759\",\n",
    "    \"#76b7b2\",\n",
    "    \"#59a14f\",\n",
    "    \"#edc948\",\n",
    "    \"#b07aa1\",\n",
    "    \"#ff9da7\",\n",
    "    \"#9c755f\",\n",
    "    \"#bab0ac\",\n",
    "]\n",
    "\n",
    "sns.set_palette(custom_palette)"
   ]
  },
  {
   "cell_type": "code",
   "execution_count": null,
   "id": "2082acad",
   "metadata": {},
   "outputs": [],
   "source": [
    "plt.rcParams[\"figure.figsize\"] = (12, 8)\n",
    "plt.rcParams[\"font.size\"] = 12\n",
    "warnings.filterwarnings(\"ignore\")"
   ]
  },
  {
   "cell_type": "code",
   "execution_count": null,
   "id": "8249aec0",
   "metadata": {},
   "outputs": [],
   "source": [
    "pd.set_option(\"display.max_columns\", None)\n",
    "pd.set_option(\"display.width\", 1000)"
   ]
  },
  {
   "cell_type": "markdown",
   "id": "924cb2e7",
   "metadata": {},
   "source": [
    "### 1.3 Project Configuration\n"
   ]
  },
  {
   "cell_type": "code",
   "execution_count": null,
   "id": "674aa1ea",
   "metadata": {},
   "outputs": [],
   "source": [
    "CONFIG = {\n",
    "    \"random_seed\": 42,\n",
    "    \"test_size\": 0.25,\n",
    "    \"cv_folds\": 5,\n",
    "    \"data_path\": \"../data/raw/WA_Fn-UseC_-Telco-Customer-Churn.csv\",\n",
    "    \"figures_path\": \"../reports/figures/\",\n",
    "    \"models_path\": \"../models/\",\n",
    "    \"results_path\": \"../reports/results/\",\n",
    "    \"target_column\": \"Churn\",\n",
    "    \"positive_class\": \"Yes\",\n",
    "    \"id_column\": \"customerID\",\n",
    "}"
   ]
  },
  {
   "cell_type": "code",
   "execution_count": null,
   "id": "c56f194d",
   "metadata": {},
   "outputs": [],
   "source": [
    "for path in [CONFIG[\"figures_path\"], CONFIG[\"models_path\"], CONFIG[\"results_path\"]]:\n",
    "    Path(path).mkdir(parents=True, exist_ok=True)"
   ]
  },
  {
   "cell_type": "markdown",
   "id": "d41f033b",
   "metadata": {},
   "source": [
    "Set random seed for reproducibility\n"
   ]
  },
  {
   "cell_type": "code",
   "execution_count": null,
   "id": "633d21ab",
   "metadata": {},
   "outputs": [],
   "source": [
    "np.random.seed(CONFIG[\"random_seed\"])"
   ]
  },
  {
   "cell_type": "markdown",
   "id": "e813ec36",
   "metadata": {},
   "source": [
    "### 1.4 Utility Functions\n"
   ]
  },
  {
   "cell_type": "code",
   "execution_count": null,
   "id": "a3837cdf",
   "metadata": {},
   "outputs": [],
   "source": [
    "def save_fig(fig: plt.Figure, filename: str, dpi: int = 300) -> None:\n",
    "    \"\"\"\n",
    "    Save a matplotlib figure with a standardized format.\n",
    "\n",
    "    Args:\n",
    "      fig (plt.Figure): The matplotlib figure to save.\n",
    "      filename (str): The name of the file to save the figure as.\n",
    "      dpi (int, optional): The resolution of the saved figure in dots per inch. Default is 300.\n",
    "\n",
    "    Returns:\n",
    "      None: This function does not return any value. It saves the figure to the specified path.\n",
    "    \"\"\"\n",
    "    full_path = Path(CONFIG[\"figures_path\"]) / filename\n",
    "    fig.savefig(full_path, bbox_inches=\"tight\", dpi=dpi)\n",
    "\n",
    "    print(f\"Figure saved: {full_path}\")"
   ]
  },
  {
   "cell_type": "code",
   "execution_count": null,
   "id": "9c19e824",
   "metadata": {},
   "outputs": [],
   "source": [
    "def format_runtime(seconds):\n",
    "    \"\"\"\n",
    "    Format runtime in human-readable format\n",
    "    \"\"\"\n",
    "\n",
    "    if seconds < 60:\n",
    "        return f\"{seconds:.2f} seconds\"\n",
    "\n",
    "    elif seconds < 3600:\n",
    "        minutes = seconds / 60\n",
    "        return f\"{minutes:.2f} minutes\"\n",
    "\n",
    "    else:\n",
    "        hours = seconds / 3600\n",
    "        return f\"{hours:.2f} hours\""
   ]
  },
  {
   "cell_type": "markdown",
   "id": "d76a02e0",
   "metadata": {},
   "source": [
    "Track execution time\n"
   ]
  },
  {
   "cell_type": "code",
   "execution_count": null,
   "id": "941a94da",
   "metadata": {},
   "outputs": [],
   "source": [
    "project_start_time = time.time()"
   ]
  },
  {
   "cell_type": "code",
   "execution_count": null,
   "id": "12283773",
   "metadata": {},
   "outputs": [],
   "source": [
    "print(\"Environment setup complete.\")\n",
    "print(\n",
    "    f\"Project initialized with pandas {pd.__version__}, scikit-learn and modern visualization libraries.\"\n",
    ")"
   ]
  },
  {
   "cell_type": "markdown",
   "id": "506f039b",
   "metadata": {},
   "source": [
    "## 2.0 Data Loading and Overview\n"
   ]
  },
  {
   "cell_type": "code",
   "execution_count": null,
   "id": "0739a8c0",
   "metadata": {},
   "outputs": [],
   "source": [
    "load_start = time.time()\n",
    "\n",
    "df = pd.read_csv(CONFIG[\"data_path\"])\n",
    "load_time = time.time() - load_start"
   ]
  },
  {
   "cell_type": "code",
   "execution_count": null,
   "id": "7cde3281",
   "metadata": {},
   "outputs": [],
   "source": [
    "print(f\"Dataset loaded in {format_runtime(load_time)}\")\n",
    "print(f\"Dataset dimensions: {df.shape[0]:,} rows, {df.shape[1]:,} columns\")"
   ]
  },
  {
   "cell_type": "markdown",
   "id": "1a3bcb53",
   "metadata": {},
   "source": [
    "Display first few rows\n"
   ]
  },
  {
   "cell_type": "code",
   "execution_count": null,
   "id": "a2789fcf",
   "metadata": {},
   "outputs": [],
   "source": [
    "display(df.head())"
   ]
  },
  {
   "cell_type": "markdown",
   "id": "7477a7f8",
   "metadata": {},
   "source": [
    "Data types and basic statistics\n"
   ]
  },
  {
   "cell_type": "code",
   "execution_count": null,
   "id": "1b6057c0",
   "metadata": {},
   "outputs": [],
   "source": [
    "data_types = pd.DataFrame(\n",
    "    {\n",
    "        \"Type\": df.dtypes,\n",
    "        \"Non-Null Count\": df.count(),\n",
    "        \"Null Count\": df.isnull().sum(),\n",
    "        \"Null %\": (df.isnull().sum() / len(df) * 100).round(2),\n",
    "        \"Unique Values\": df.nunique(),\n",
    "    }\n",
    ")\n",
    "\n",
    "display(data_types)"
   ]
  },
  {
   "cell_type": "markdown",
   "id": "36a695b9",
   "metadata": {},
   "source": [
    "Check for potential numeric columns stored as strings\n"
   ]
  },
  {
   "cell_type": "code",
   "execution_count": null,
   "id": "e2af5f52",
   "metadata": {},
   "outputs": [],
   "source": [
    "numeric_as_object = []\n",
    "for col in df.select_dtypes(include=[\"object\"]).columns:\n",
    "    if pd.to_numeric(df[col], errors=\"coerce\").notna().mean() > 0.9:\n",
    "        numeric_as_object.append(col)\n",
    "\n",
    "if numeric_as_object:\n",
    "    print(f\"\\nColumns that might need type conversion: {numeric_as_object}\")"
   ]
  },
  {
   "cell_type": "markdown",
   "id": "715ae761",
   "metadata": {},
   "source": [
    "### 2.1 Visualize Missing Values\n"
   ]
  },
  {
   "cell_type": "code",
   "execution_count": null,
   "id": "8c1f646c",
   "metadata": {},
   "outputs": [],
   "source": [
    "plt.figure(figsize=(12, 6))\n",
    "msno.matrix(df)\n",
    "\n",
    "plt.title(\"Missing Values Matrix\", fontsize=16)\n",
    "plt.tight_layout()\n",
    "plt.show()"
   ]
  },
  {
   "cell_type": "markdown",
   "id": "7ddc1156",
   "metadata": {},
   "source": [
    "### 2.2 Class Imbalance Checks\n"
   ]
  },
  {
   "cell_type": "code",
   "execution_count": null,
   "id": "2403c047",
   "metadata": {},
   "outputs": [],
   "source": [
    "target_col = CONFIG[\"target_column\"]\n",
    "target_counts = df[target_col].value_counts()\n",
    "target_pct = df[target_col].value_counts(normalize=True) * 100"
   ]
  },
  {
   "cell_type": "code",
   "execution_count": null,
   "id": "50ab0fdf",
   "metadata": {},
   "outputs": [],
   "source": [
    "fig = px.bar(\n",
    "    x=target_counts.index,\n",
    "    y=target_counts.values,\n",
    "    color=target_counts.index,\n",
    "    text=target_counts.values,\n",
    "    labels={\"x\": CONFIG[\"target_column\"], \"y\": \"Count\"},\n",
    "    title=f'Distribution of Target Variable: {CONFIG[\"target_column\"]}',\n",
    "    color_discrete_map={CONFIG[\"positive_class\"]: \"#e74c3c\", \"No\": \"#3498db\"},\n",
    "    template=\"plotly_white\",\n",
    ")\n",
    "\n",
    "fig.update_layout(\n",
    "    showlegend=False,\n",
    "    title_font_size=20,\n",
    "    title_x=0.5,\n",
    "    xaxis_title_font_size=14,\n",
    "    yaxis_title_font_size=14,\n",
    ")\n",
    "\n",
    "fig.update_traces(\n",
    "    texttemplate=\"%{text:,}\", textposition=\"outside\", textfont=dict(size=14)\n",
    ")\n",
    "\n",
    "fig.update_layout(\n",
    "    annotations=[\n",
    "        dict(\n",
    "            x=i,\n",
    "            y=count + (max(target_counts.values) * 0.05),\n",
    "            text=f\"{pct:.1f}%\",\n",
    "            showarrow=False,\n",
    "            font=dict(size=14),\n",
    "        )\n",
    "        for i, (count, pct) in enumerate(zip(target_counts.values, target_pct.values))\n",
    "    ]\n",
    ")\n",
    "\n",
    "fig.show()"
   ]
  },
  {
   "cell_type": "code",
   "execution_count": null,
   "id": "6fd06ac5",
   "metadata": {},
   "outputs": [],
   "source": [
    "print(f\"Churn rate: {target_pct[CONFIG['positive_class']]:.2f}%\")\n",
    "print(\n",
    "    f\"This represents {target_counts[CONFIG['positive_class']]:,} out of {len(df):,} customers.\"\n",
    ")"
   ]
  },
  {
   "cell_type": "markdown",
   "id": "52df9f28",
   "metadata": {},
   "source": [
    "### 2.3 Identify Feature Types\n"
   ]
  },
  {
   "cell_type": "code",
   "execution_count": null,
   "id": "bc276c06",
   "metadata": {},
   "outputs": [],
   "source": [
    "id_cols = [CONFIG[\"id_column\"]]\n",
    "target_cols = [CONFIG[\"target_column\"]]\n",
    "categorical_cols = df.select_dtypes(include=[\"object\"]).columns.tolist()\n",
    "numerical_cols = df.select_dtypes(include=[\"int64\", \"float64\"]).columns.tolist()"
   ]
  },
  {
   "cell_type": "code",
   "execution_count": null,
   "id": "81153f43",
   "metadata": {},
   "outputs": [],
   "source": [
    "for col in id_cols + target_cols:\n",
    "    if col in categorical_cols:\n",
    "        categorical_cols.remove(col)"
   ]
  },
  {
   "cell_type": "code",
   "execution_count": null,
   "id": "967b4788",
   "metadata": {},
   "outputs": [],
   "source": [
    "print(\"\\nFeature Classification:\")\n",
    "print(f\"ID Columns ({len(id_cols)}): {', '.join(id_cols)}\")\n",
    "print(f\"Target Column: {', '.join(target_cols)}\")\n",
    "print(f\"Categorical Features ({len(categorical_cols)}): {', '.join(categorical_cols)}\")\n",
    "print(f\"Numerical Features ({len(numerical_cols)}): {', '.join(numerical_cols)}\")"
   ]
  },
  {
   "cell_type": "markdown",
   "id": "b15328ab",
   "metadata": {},
   "source": [
    "## 3.0 Data Cleaning and Preprocessing\n"
   ]
  },
  {
   "cell_type": "code",
   "execution_count": null,
   "id": "7169e516",
   "metadata": {},
   "outputs": [],
   "source": [
    "df_clean = df.copy()"
   ]
  },
  {
   "cell_type": "markdown",
   "id": "88fbee5a",
   "metadata": {},
   "source": [
    "Convert SeniorCitizen from numeric to categorical\n"
   ]
  },
  {
   "cell_type": "code",
   "execution_count": null,
   "id": "e7afff25",
   "metadata": {},
   "outputs": [],
   "source": [
    "df_clean[\"SeniorCitizen\"] = df_clean[\"SeniorCitizen\"].map({0: \"No\", 1: \"Yes\"})\n",
    "categorical_cols.append(\"SeniorCitizen\")\n",
    "numerical_cols.remove(\"SeniorCitizen\")"
   ]
  },
  {
   "cell_type": "markdown",
   "id": "8345f24a",
   "metadata": {},
   "source": [
    "Handle TotalCharges column if it's stored as object\n"
   ]
  },
  {
   "cell_type": "code",
   "execution_count": null,
   "id": "c5d1bca9",
   "metadata": {},
   "outputs": [],
   "source": [
    "if df_clean[\"TotalCharges\"].dtype == \"object\":\n",
    "    df_clean[\"TotalCharges\"] = pd.to_numeric(df_clean[\"TotalCharges\"], errors=\"coerce\")\n",
    "    print(\n",
    "        f\"✓ Converted 'TotalCharges' to numeric. Found {df_clean['TotalCharges'].isnull().sum()} missing values.\"\n",
    "    )\n",
    "\n",
    "    if df_clean[\"TotalCharges\"].isnull().sum() > 0:\n",
    "        print(\"\\nRows with missing TotalCharges:\")\n",
    "        display(df_clean[df_clean[\"TotalCharges\"].isnull()])\n",
    "\n",
    "        mask = df_clean[\"TotalCharges\"].isnull()\n",
    "        df_clean.loc[mask, \"TotalCharges\"] = (\n",
    "            df_clean.loc[mask, \"MonthlyCharges\"] * df_clean.loc[mask, \"tenure\"]\n",
    "        )\n",
    "\n",
    "        print(\n",
    "            f\"✓ Filled {mask.sum()} missing values in 'TotalCharges' based on MonthlyCharges × tenure\"\n",
    "        )"
   ]
  },
  {
   "cell_type": "markdown",
   "id": "9766b76e",
   "metadata": {},
   "source": [
    "Validate data integrity after cleaning\n"
   ]
  },
  {
   "cell_type": "code",
   "execution_count": null,
   "id": "1d0bc592",
   "metadata": {},
   "outputs": [],
   "source": [
    "remaining_missing = df_clean.isnull().sum().sum()\n",
    "print(f\"\\nRemaining missing values after cleaning: {remaining_missing}\")\n",
    "\n",
    "if remaining_missing == 0:\n",
    "    print(\"✅ All missing values have been successfully handled.\")\n",
    "\n",
    "else:\n",
    "    print(\"⚠️ There are still missing values that need to be addressed.\")"
   ]
  },
  {
   "cell_type": "markdown",
   "id": "9150aab0",
   "metadata": {},
   "source": [
    "Data summary after cleaning\n"
   ]
  },
  {
   "cell_type": "code",
   "execution_count": null,
   "id": "658308ab",
   "metadata": {},
   "outputs": [],
   "source": [
    "display(df_clean.describe())"
   ]
  },
  {
   "cell_type": "code",
   "execution_count": null,
   "id": "c575a163",
   "metadata": {},
   "outputs": [],
   "source": [
    "df_clean.to_csv(\n",
    "    Path(CONFIG[\"data_path\"]).parent / \"cleaned_churn_data.csv\", index=False\n",
    ")"
   ]
  },
  {
   "cell_type": "markdown",
   "id": "70ba200d",
   "metadata": {},
   "source": [
    "## 4.0 Exploratory Data Analysis\n",
    "\n",
    "### 4.1 Categorical Feature Analysis\n"
   ]
  },
  {
   "cell_type": "code",
   "execution_count": null,
   "id": "267281a5",
   "metadata": {},
   "outputs": [],
   "source": [
    "def analyze_categorical_features(\n",
    "    df: pd.DataFrame, feature: pd.Series, target: pd.Series, title: str = None\n",
    "):\n",
    "    \"\"\"\n",
    "    Create a comprehensive analysis of a categorical feature.\n",
    "\n",
    "    Args:\n",
    "      df (pandas.DataFrame): DataFrame containing the data\n",
    "      feature (pandas.Series): Column name of the categorical feature\n",
    "      target (pandas.Series): Column name of the target variable\n",
    "      title (str): Title for the plot, defaults to feature name\n",
    "    \"\"\"\n",
    "\n",
    "    if title is None:\n",
    "        title = f\"Analysis of {feature}\"\n",
    "\n",
    "    value_counts = df[feature].value_counts().reset_index()\n",
    "    value_counts.columns = [feature, \"Count\"]\n",
    "    value_counts[\"Percentage\"] = (value_counts[\"Count\"] / len(df) * 100).round(1)\n",
    "\n",
    "    # Calculate churn rate by category\n",
    "    churn_by_category = (\n",
    "        df.groupby(feature)[target]\n",
    "        .apply(lambda x: (x == CONFIG[\"positive_class\"]).mean() * 100)\n",
    "        .reset_index()\n",
    "    )\n",
    "    churn_by_category.columns = [feature, \"Churn Rate (%)\"]\n",
    "\n",
    "    # Sort by churn rate\n",
    "    churn_by_category = churn_by_category.sort_values(\"Churn Rate (%)\", ascending=False)\n",
    "\n",
    "    # Subplot with two charts: distribution bar chart and churn rate bar chart\n",
    "    fig = make_subplots(\n",
    "        rows=1,\n",
    "        cols=2,\n",
    "        subplot_titles=[\"Distribution by Category\", \"Churn Rate by Category\"],\n",
    "        specs=[[{\"type\": \"bar\"}, {\"type\": \"bar\"}]],\n",
    "        column_widths=[0.5, 0.5],\n",
    "    )\n",
    "\n",
    "    sorted_counts = value_counts.sort_values(\"Count\", ascending=False)\n",
    "    fig.add_trace(\n",
    "        go.Bar(\n",
    "            x=sorted_counts[feature],\n",
    "            y=sorted_counts[\"Count\"],\n",
    "            text=[\n",
    "                f\"{count:,} ({pct}%)\"\n",
    "                for count, pct in zip(\n",
    "                    sorted_counts[\"Count\"], sorted_counts[\"Percentage\"]\n",
    "                )\n",
    "            ],\n",
    "            textposition=\"auto\",\n",
    "            marker_color=\"#3498db\",\n",
    "            name=\"Count\",\n",
    "        ),\n",
    "        row=1,\n",
    "        col=1,\n",
    "    )\n",
    "\n",
    "    fig.add_trace(\n",
    "        go.Bar(\n",
    "            x=churn_by_category[feature],\n",
    "            y=churn_by_category[\"Churn Rate (%)\"],\n",
    "            text=[f\"{rate:.1f}%\" for rate in churn_by_category[\"Churn Rate (%)\"]],\n",
    "            textposition=\"auto\",\n",
    "            marker_color=churn_by_category[\"Churn Rate (%)\"],\n",
    "            marker=dict(\n",
    "                colorscale=\"RdYlGn_r\",\n",
    "                colorbar=dict(title=\"Churn %\"),\n",
    "            ),\n",
    "            name=\"Churn Rate (%)\",\n",
    "        ),\n",
    "        row=1,\n",
    "        col=2,\n",
    "    )\n",
    "\n",
    "    fig.update_layout(\n",
    "        title=title,\n",
    "        height=500,\n",
    "        width=1000,\n",
    "        template=\"plotly_white\",\n",
    "        showlegend=False,\n",
    "        title_font_size=18,\n",
    "        title_x=0.5,\n",
    "    )\n",
    "\n",
    "    fig.update_xaxes(title_text=\"\", tickangle=45, row=1, col=1)\n",
    "    fig.update_xaxes(title_text=\"\", tickangle=45, row=1, col=2)\n",
    "    fig.update_yaxes(title_text=\"Count\", row=1, col=1)\n",
    "    fig.update_yaxes(title_text=\"Churn Rate (%)\", row=1, col=2)\n",
    "\n",
    "    fig.show()\n",
    "\n",
    "    # Perform chi-square test\n",
    "    contingency_table = pd.crosstab(df[feature], df[target])\n",
    "    chi2, p, dof, expected = stats.chi2_contingency(contingency_table)\n",
    "\n",
    "    # Cramer's V for effect size\n",
    "    n = contingency_table.sum().sum()\n",
    "    cramer_v = np.sqrt(chi2 / (n * (min(contingency_table.shape) - 1)))\n",
    "\n",
    "    # Interpret effect size\n",
    "    if cramer_v < 0.1:\n",
    "        effect = \"negligible\"\n",
    "\n",
    "    elif cramer_v < 0.2:\n",
    "        effect = \"weak\"\n",
    "\n",
    "    elif cramer_v < 0.3:\n",
    "        effect = \"moderate\"\n",
    "\n",
    "    else:\n",
    "        effect = \"strong\"\n",
    "\n",
    "    print(f\"Statistical Analysis for {feature}:\")\n",
    "    print(f\"- Chi-Square Test: χ² = {chi2:.2f}, p-value = {p:.4f}\")\n",
    "    print(f\"- Effect Size (Cramer's V): {cramer_v:.4f} - {effect} effect\")\n",
    "\n",
    "    if p < 0.05:\n",
    "        print(f\"- Conclusion: Statistically significant association with churn\")\n",
    "\n",
    "    else:\n",
    "        print(f\"- Conclusion: No statistically significant association with churn\")\n",
    "\n",
    "    return chi2, p, cramer_v"
   ]
  },
  {
   "cell_type": "markdown",
   "id": "287f2bac",
   "metadata": {},
   "source": [
    "#### 4.1.1 Analyze categorical features\n"
   ]
  },
  {
   "cell_type": "code",
   "execution_count": null,
   "id": "97dd50ea",
   "metadata": {},
   "outputs": [],
   "source": [
    "cat_results = []\n",
    "for col in categorical_cols:\n",
    "    print(f\"\\nAnalyzing {col}:\")\n",
    "    chi2, p, cramer_v = analyze_categorical_features(\n",
    "        df_clean, col, CONFIG[\"target_column\"]\n",
    "    )\n",
    "\n",
    "    cat_results.append(\n",
    "        {\"Feature\": col, \"Chi2\": chi2, \"P-value\": p, \"Cramer_V\": cramer_v}\n",
    "    )"
   ]
  },
  {
   "cell_type": "markdown",
   "id": "6d75d407",
   "metadata": {},
   "source": [
    "#### 4.1.2 Summary of Categorical Features\n"
   ]
  },
  {
   "cell_type": "code",
   "execution_count": null,
   "id": "a0e3e006",
   "metadata": {},
   "outputs": [],
   "source": [
    "cat_summary = pd.DataFrame(cat_results).sort_values(\"Cramer_V\", ascending=False)\n",
    "cat_summary[\"Significant\"] = cat_summary[\"P-value\"] < 0.05\n",
    "cat_summary[\"Effect Size\"] = cat_summary[\"Cramer_V\"].apply(\n",
    "    lambda v: (\n",
    "        \"Strong\"\n",
    "        if v >= 0.3\n",
    "        else \"Moderate\" if v >= 0.2 else \"Weak\" if v >= 0.1 else \"Negligible\"\n",
    "    )\n",
    ")"
   ]
  },
  {
   "cell_type": "code",
   "execution_count": null,
   "id": "0e2ee7a2",
   "metadata": {},
   "outputs": [],
   "source": [
    "display(cat_summary)"
   ]
  },
  {
   "cell_type": "markdown",
   "id": "d47bdf38",
   "metadata": {},
   "source": [
    "#### 4.1.3 Visualize Categorical Feature Importance\n"
   ]
  },
  {
   "cell_type": "code",
   "execution_count": null,
   "id": "a2512158",
   "metadata": {},
   "outputs": [],
   "source": [
    "plt.figure(figsize=(12, 8))\n",
    "sns.barplot(\n",
    "    x=\"Cramer_V\",\n",
    "    y=\"Feature\",\n",
    "    hue=\"Significant\",\n",
    "    data=cat_summary.sort_values(\"Cramer_V\"),\n",
    "    palette=[\"#e74c3c\", \"#3498db\"],\n",
    ")\n",
    "\n",
    "plt.title(\"Categorical Feature Importance by Effect Size\", fontsize=16)\n",
    "plt.xlabel(\"Effect Size (Cramer's V)\", fontsize=14)\n",
    "plt.ylabel(\"Feature\", fontsize=14)\n",
    "plt.legend(title=\"Statistically Significant\")\n",
    "plt.tight_layout()\n",
    "plt.show()"
   ]
  },
  {
   "cell_type": "markdown",
   "id": "d2acdeae",
   "metadata": {},
   "source": [
    "### 4.2 Numerical Feature Analysis\n"
   ]
  },
  {
   "cell_type": "code",
   "execution_count": null,
   "id": "4159ee2b",
   "metadata": {},
   "outputs": [],
   "source": [
    "def analyze_numerical_features(\n",
    "    df: pd.DataFrame, feature: pd.Series, target: pd.Series, title: str = None\n",
    "):\n",
    "    \"\"\"\n",
    "    Create a comprehensive analysis of a numerical feature\n",
    "\n",
    "    Args:\n",
    "      df (pandas.DataFrame): DataFrame containing the data\n",
    "      feature (pandas.Series): Column name of the numerical feature\n",
    "      target (pandas.Series): Column name of the target variable\n",
    "      title (str): Title for the plot, defaults to feature name\n",
    "    \"\"\"\n",
    "\n",
    "    try:\n",
    "        if title is None:\n",
    "            title = f\"Analysis of {feature}\"\n",
    "\n",
    "        if df[feature].isnull().sum() > 0:\n",
    "            print(\n",
    "                f\"Warning: {feature} contains {df[feature].isnull().sum()} missing values\"\n",
    "            )\n",
    "\n",
    "            df = df.copy()\n",
    "            df[feature] = df[feature].fillna(df[feature].median())\n",
    "\n",
    "        churned = df[df[target] == CONFIG[\"positive_class\"]][feature]\n",
    "        retained = df[df[target] != CONFIG[\"positive_class\"]][feature]\n",
    "\n",
    "        if len(churned) < 2 or len(retained) < 2:\n",
    "            print(\n",
    "                f\"Error: Not enough data for {feature} analysis. Churned: {len(churned)}, Retained: {len(retained)}\"\n",
    "            )\n",
    "\n",
    "            return None\n",
    "\n",
    "        # Subplot\n",
    "        fig = make_subplots(\n",
    "            rows=2,\n",
    "            cols=2,\n",
    "            subplot_titles=[\n",
    "                \"Distribution by Churn Status\",\n",
    "                \"Box Plot by Churn Status\",\n",
    "                \"Mean Comparison with 95% CI\",\n",
    "                \"Cumulative Distribution Function\",\n",
    "            ],\n",
    "            specs=[\n",
    "                [{\"type\": \"histogram\"}, {\"type\": \"box\"}],\n",
    "                [{\"type\": \"bar\"}, {\"type\": \"scatter\"}],\n",
    "            ],\n",
    "            vertical_spacing=0.1,\n",
    "        )\n",
    "\n",
    "        # Add histogram for distribution comparison\n",
    "        fig.add_trace(\n",
    "            go.Histogram(\n",
    "                x=churned, name=\"Churned\", opacity=0.7, marker_color=\"#e74c3c\"\n",
    "            ),\n",
    "            row=1,\n",
    "            col=1,\n",
    "        )\n",
    "\n",
    "        fig.add_trace(\n",
    "            go.Histogram(\n",
    "                x=retained, name=\"Retained\", opacity=0.7, marker_color=\"#3498db\"\n",
    "            ),\n",
    "            row=1,\n",
    "            col=1,\n",
    "        )\n",
    "\n",
    "        # Add box plots\n",
    "        fig.add_trace(\n",
    "            go.Box(y=churned, name=\"Churned\", marker_color=\"#e74c3c\", boxmean=True),\n",
    "            row=1,\n",
    "            col=2,\n",
    "        )\n",
    "\n",
    "        fig.add_trace(\n",
    "            go.Box(y=retained, name=\"Retained\", marker_color=\"#3498db\", boxmean=True),\n",
    "            row=1,\n",
    "            col=2,\n",
    "        )\n",
    "\n",
    "        def mean_confidence_interval(data, confidence: float = 0.95):\n",
    "            a = 1.0 * np.array(data)\n",
    "            n = len(a)\n",
    "\n",
    "            m, se = np.mean(a), stats.sem(a)\n",
    "            h = se * stats.t.ppf((1 + confidence) / 2.0, n - 1)\n",
    "\n",
    "            return m, m - h, m + h\n",
    "\n",
    "        churn_mean, churn_lower, churn_upper = mean_confidence_interval(churned)\n",
    "        retain_mean, retain_lower, retain_upper = mean_confidence_interval(retained)\n",
    "\n",
    "        # Create bar chart with error bars\n",
    "        fig.add_trace(\n",
    "            go.Bar(\n",
    "                x=[\"Churned\", \"Retained\"],\n",
    "                y=[churn_mean, retain_mean],\n",
    "                error_y=dict(\n",
    "                    type=\"data\",\n",
    "                    array=[churn_upper - churn_mean, retain_upper - retain_mean],\n",
    "                    arrayminus=[churn_mean - churn_lower, retain_mean - retain_lower],\n",
    "                    visible=True,\n",
    "                ),\n",
    "                marker_color=[\"#e74c3c\", \"#3498db\"],\n",
    "                text=[f\"{churn_mean:.2f}\", f\"{retain_mean:.2f}\"],\n",
    "                textposition=\"auto\",\n",
    "            ),\n",
    "            row=2,\n",
    "            col=1,\n",
    "        )\n",
    "\n",
    "        def ecdf(data):\n",
    "            \"\"\"\n",
    "            Compute ECDF for a one-dimensional array of measurements\n",
    "            \"\"\"\n",
    "\n",
    "            x = np.sort(data)\n",
    "            n = len(x)\n",
    "            y = np.arange(1, n + 1) / n\n",
    "\n",
    "            return x, y\n",
    "\n",
    "        x_churned, y_churned = ecdf(churned)\n",
    "        x_retained, y_retained = ecdf(retained)\n",
    "\n",
    "        fig.add_trace(\n",
    "            go.Scatter(\n",
    "                x=x_churned,\n",
    "                y=y_churned,\n",
    "                mode=\"lines\",\n",
    "                name=\"Churned\",\n",
    "                line=dict(color=\"#e74c3c\", width=2),\n",
    "            ),\n",
    "            row=2,\n",
    "            col=2,\n",
    "        )\n",
    "\n",
    "        fig.add_trace(\n",
    "            go.Scatter(\n",
    "                x=x_retained,\n",
    "                y=y_retained,\n",
    "                mode=\"lines\",\n",
    "                name=\"Retained\",\n",
    "                line=dict(color=\"#3498db\", width=2),\n",
    "            ),\n",
    "            row=2,\n",
    "            col=2,\n",
    "        )\n",
    "\n",
    "        fig.update_layout(\n",
    "            title=title,\n",
    "            height=700,\n",
    "            width=1000,\n",
    "            template=\"plotly_white\",\n",
    "            showlegend=True,\n",
    "            barmode=\"overlay\",\n",
    "            title_font_size=18,\n",
    "            title_x=0.5,\n",
    "            legend=dict(\n",
    "                orientation=\"h\", yanchor=\"bottom\", y=1.02, xanchor=\"right\", x=1\n",
    "            ),\n",
    "        )\n",
    "\n",
    "        fig.update_xaxes(title_text=feature, row=1, col=1)\n",
    "        fig.update_yaxes(title_text=\"Count\", row=1, col=1)\n",
    "        fig.update_yaxes(title_text=feature, row=1, col=2)\n",
    "        fig.update_xaxes(title_text=\"Churn Status\", row=2, col=1)\n",
    "        fig.update_yaxes(title_text=f\"Mean {feature}\", row=2, col=1)\n",
    "        fig.update_xaxes(title_text=feature, row=2, col=2)\n",
    "        fig.update_yaxes(title_text=\"Cumulative Probability\", row=2, col=2)\n",
    "\n",
    "        fig.show()\n",
    "\n",
    "        # Statistical Tests\n",
    "        try:\n",
    "            u_stat, p_value = stats.mannwhitneyu(churned, retained)\n",
    "            mean_diff = churned.mean() - retained.mean()\n",
    "            pooled_std = np.sqrt((churned.std() ** 2 + retained.std() ** 2) / 2)\n",
    "            cohens_d = abs(mean_diff / pooled_std)\n",
    "\n",
    "            if cohens_d < 0.2:\n",
    "                effect = \"negligible\"\n",
    "\n",
    "            elif cohens_d < 0.5:\n",
    "                effect = \"small\"\n",
    "\n",
    "            elif cohens_d < 0.8:\n",
    "                effect = \"medium\"\n",
    "\n",
    "            else:\n",
    "                effect = \"large\"\n",
    "\n",
    "            print(f\"Statistical Analysis for {feature}:\")\n",
    "            print(f\"- Mann-Whitney U Test: U = {u_stat:.2f}, p-value = {p_value:.4f}\")\n",
    "            print(f\"- Effect Size (Cohen's d): {cohens_d:.4f} - {effect} effect\")\n",
    "\n",
    "            if p_value < 0.05:\n",
    "                print(\n",
    "                    f\"- Conclusion: Statistically significant difference between churned and retained customers\"\n",
    "                )\n",
    "\n",
    "            else:\n",
    "                print(\n",
    "                    f\"- Conclusion: No statistically significant difference between churned and retained customers\"\n",
    "                )\n",
    "\n",
    "            # Descriptive stats\n",
    "            print(f\"\\nDescriptive Statistics:\")\n",
    "            print(\n",
    "                f\"- Churned Customers: mean = {churned.mean():.2f}, median = {churned.median():.2f}, std = {churned.std():.2f}\"\n",
    "            )\n",
    "\n",
    "            print(\n",
    "                f\"- Retained Customers: mean = {retained.mean():.2f}, median = {retained.median():.2f}, std = {retained.std():.2f}\"\n",
    "            )\n",
    "\n",
    "            print(f\"- Difference in means: {(churned.mean() - retained.mean()):.2f}\")\n",
    "\n",
    "            return u_stat, p_value, cohens_d\n",
    "\n",
    "        except Exception as e:\n",
    "            print(f\"Error performing statistical tests for {feature}: {str(e)}\")\n",
    "\n",
    "    except Exception as e:\n",
    "        print(f\"Error analyzing {feature}: {str(e)}\")\n",
    "        return None"
   ]
  },
  {
   "cell_type": "markdown",
   "id": "060c2424",
   "metadata": {},
   "source": [
    "#### 4.2.1 Analyze numerical features\n"
   ]
  },
  {
   "cell_type": "code",
   "execution_count": null,
   "id": "7eff1d68",
   "metadata": {},
   "outputs": [],
   "source": [
    "num_results = []\n",
    "for col in numerical_cols:\n",
    "    print(f\"\\nAnalyzing {col}:\")\n",
    "    result = analyze_numerical_features(df_clean, col, CONFIG[\"target_column\"])\n",
    "\n",
    "    if result is not None:\n",
    "        u_stat, p_value, cohens_d = result\n",
    "\n",
    "    else:\n",
    "        print(f\"Skipping analysis for {col} due to missing or invalid data.\")\n",
    "        continue\n",
    "\n",
    "    num_results.append(\n",
    "        {\"Feature\": col, \"U_stat\": u_stat, \"P-value\": p_value, \"Cohens_d\": cohens_d}\n",
    "    )"
   ]
  },
  {
   "cell_type": "markdown",
   "id": "5033481d",
   "metadata": {},
   "source": [
    "#### 4.2.2 Create a Summary of Numerical Feature Importance\n"
   ]
  },
  {
   "cell_type": "code",
   "execution_count": null,
   "id": "04fc19ff",
   "metadata": {},
   "outputs": [],
   "source": [
    "num_summary = pd.DataFrame(num_results).sort_values(\"Cohens_d\", ascending=False)\n",
    "num_summary[\"Significant\"] = num_summary[\"P-value\"] < 0.05\n",
    "num_summary[\"Effect Size\"] = num_summary[\"Cohens_d\"].apply(\n",
    "    lambda d: (\n",
    "        \"Large\"\n",
    "        if d >= 0.8\n",
    "        else \"Medium\" if d >= 0.5 else \"Small\" if d >= 0.2 else \"Negligible\"\n",
    "    )\n",
    ")"
   ]
  },
  {
   "cell_type": "code",
   "execution_count": null,
   "id": "c681ce74",
   "metadata": {},
   "outputs": [],
   "source": [
    "display(num_summary)"
   ]
  },
  {
   "cell_type": "markdown",
   "id": "7664e375",
   "metadata": {},
   "source": [
    "#### 4.2.3 Numerical Feature Importance\n"
   ]
  },
  {
   "cell_type": "code",
   "execution_count": null,
   "id": "2b4e0531",
   "metadata": {},
   "outputs": [],
   "source": [
    "plt.figure(figsize=(12, 6))\n",
    "sns.barplot(\n",
    "    x=\"Cohens_d\",\n",
    "    y=\"Feature\",\n",
    "    hue=\"Significant\",\n",
    "    data=num_summary.sort_values(\"Cohens_d\"),\n",
    "    palette=[\"#e74c3c\", \"#3498db\"],\n",
    ")\n",
    "\n",
    "plt.title(\"Numerical Feature Importance by Effect Size\", fontsize=16)\n",
    "plt.xlabel(\"Effect Size (Cohen's d)\", fontsize=14)\n",
    "plt.ylabel(\"Feature\", fontsize=14)\n",
    "plt.legend(title=\"Statistically Significant\")\n",
    "plt.tight_layout()\n",
    "plt.show()"
   ]
  },
  {
   "cell_type": "markdown",
   "id": "50ae1f2c",
   "metadata": {},
   "source": [
    "### 4.3 Correlation Matrix\n"
   ]
  },
  {
   "cell_type": "code",
   "execution_count": null,
   "id": "024a2727",
   "metadata": {},
   "outputs": [],
   "source": [
    "corr_matrix = df_clean[numerical_cols].corr()"
   ]
  },
  {
   "cell_type": "code",
   "execution_count": null,
   "id": "b35c9525",
   "metadata": {},
   "outputs": [],
   "source": [
    "plt.figure(figsize=(12, 10))\n",
    "mask = np.triu(np.ones_like(corr_matrix, dtype=bool))\n",
    "cmap = sns.diverging_palette(230, 20, as_cmap=True)\n",
    "\n",
    "sns.heatmap(\n",
    "    corr_matrix,\n",
    "    mask=mask,\n",
    "    annot=True,\n",
    "    cmap=cmap,\n",
    "    linewidths=0.5,\n",
    "    fmt=\".2f\",\n",
    "    vmin=-1,\n",
    "    vmax=1,\n",
    "    center=0,\n",
    "    square=True,\n",
    "    cbar_kws={\"shrink\": 0.8},\n",
    ")\n",
    "\n",
    "plt.title(\"Correlation Matrix of Numerical Features\", fontsize=16)\n",
    "plt.tight_layout()\n",
    "plt.show()"
   ]
  },
  {
   "cell_type": "markdown",
   "id": "08ee1568",
   "metadata": {},
   "source": [
    "### 4.4 Check for High Correlations\n"
   ]
  },
  {
   "cell_type": "code",
   "execution_count": null,
   "id": "c35c9a76",
   "metadata": {},
   "outputs": [],
   "source": [
    "high_corr_threshold = 0.7\n",
    "high_corr_pairs = []\n",
    "\n",
    "for i in range(len(corr_matrix.columns)):\n",
    "    for j in range(i + 1, len(corr_matrix.columns)):\n",
    "        if abs(corr_matrix.iloc[i, j]) >= high_corr_threshold:\n",
    "            high_corr_pairs.append(\n",
    "                {\n",
    "                    \"Feature 1\": corr_matrix.columns[i],\n",
    "                    \"Feature 2\": corr_matrix.columns[j],\n",
    "                    \"Correlation\": corr_matrix.iloc[i, j],\n",
    "                }\n",
    "            )"
   ]
  },
  {
   "cell_type": "code",
   "execution_count": null,
   "id": "28e50a68",
   "metadata": {},
   "outputs": [],
   "source": [
    "if high_corr_pairs:\n",
    "    print(\"\\nHigh Correlation Pairs (potential multicollinearity):\")\n",
    "    display(pd.DataFrame(high_corr_pairs))\n",
    "\n",
    "else:\n",
    "    print(\"\\nNo high correlation pairs found.\")"
   ]
  },
  {
   "cell_type": "markdown",
   "id": "ab4355ac",
   "metadata": {},
   "source": [
    "## 5.0 Feature Engineering\n"
   ]
  },
  {
   "cell_type": "code",
   "execution_count": null,
   "id": "7ca68bbc",
   "metadata": {},
   "outputs": [],
   "source": [
    "df_featured = df_clean.copy()"
   ]
  },
  {
   "cell_type": "markdown",
   "id": "6eb7e7c7",
   "metadata": {},
   "source": [
    "### 5.1 Creating the Features\n"
   ]
  },
  {
   "cell_type": "markdown",
   "id": "13436b1b",
   "metadata": {},
   "source": [
    "Feature 1: Customer Lifetime Value (CLV)\n"
   ]
  },
  {
   "cell_type": "code",
   "execution_count": null,
   "id": "c1bc60e4",
   "metadata": {},
   "outputs": [],
   "source": [
    "df_featured[\"CLV\"] = df_featured[\"tenure\"] * df_featured[\"MonthlyCharges\"]"
   ]
  },
  {
   "cell_type": "markdown",
   "id": "3115e07e",
   "metadata": {},
   "source": [
    "Feature 2: Service Count\n"
   ]
  },
  {
   "cell_type": "code",
   "execution_count": null,
   "id": "38443dc5",
   "metadata": {},
   "outputs": [],
   "source": [
    "service_cols = [\n",
    "    \"PhoneService\",\n",
    "    \"MultipleLines\",\n",
    "    \"InternetService\",\n",
    "    \"OnlineSecurity\",\n",
    "    \"OnlineBackup\",\n",
    "    \"DeviceProtection\",\n",
    "    \"TechSupport\",\n",
    "    \"StreamingTV\",\n",
    "    \"StreamingMovies\",\n",
    "]"
   ]
  },
  {
   "cell_type": "code",
   "execution_count": null,
   "id": "45841d64",
   "metadata": {},
   "outputs": [],
   "source": [
    "df_featured[\"ServiceCount\"] = 0\n",
    "for col in service_cols:\n",
    "    df_featured[\"ServiceCount\"] += (\n",
    "        (df_featured[col] != \"No\")\n",
    "        & (df_featured[col] != \"No internet service\")\n",
    "        & (df_featured[col] != \"No phone service\")\n",
    "    ).astype(int)"
   ]
  },
  {
   "cell_type": "markdown",
   "id": "c029a97a",
   "metadata": {},
   "source": [
    "Feature 3: Average Spend Per Service\n"
   ]
  },
  {
   "cell_type": "code",
   "execution_count": null,
   "id": "826baa7e",
   "metadata": {},
   "outputs": [],
   "source": [
    "df_featured[\"AvgSpendPerService\"] = df_featured.apply(\n",
    "    lambda x: x[\"MonthlyCharges\"] / max(x[\"ServiceCount\"], 1), axis=1\n",
    ")"
   ]
  },
  {
   "cell_type": "markdown",
   "id": "c5235610",
   "metadata": {},
   "source": [
    "Feature 4: Tenure Groups\n"
   ]
  },
  {
   "cell_type": "code",
   "execution_count": null,
   "id": "1934d874",
   "metadata": {},
   "outputs": [],
   "source": [
    "bins = [0, 12, 24, 36, 48, 60, np.inf]\n",
    "labels = [\n",
    "    \"0-12 months\",\n",
    "    \"13-24 months\",\n",
    "    \"25-36 months\",\n",
    "    \"37-48 months\",\n",
    "    \"49-60 months\",\n",
    "    \"60+ months\",\n",
    "]"
   ]
  },
  {
   "cell_type": "code",
   "execution_count": null,
   "id": "cb2b9164",
   "metadata": {},
   "outputs": [],
   "source": [
    "df_featured[\"TenureGroup\"] = pd.cut(df_featured[\"tenure\"], bins=bins, labels=labels)"
   ]
  },
  {
   "cell_type": "markdown",
   "id": "72f82b9c",
   "metadata": {},
   "source": [
    "Feature 5: Has Security Services (both OnlineSecurity and TechSupport)\n"
   ]
  },
  {
   "cell_type": "code",
   "execution_count": null,
   "id": "f938a26c",
   "metadata": {},
   "outputs": [],
   "source": [
    "df_featured[\"HasSecurityServices\"] = (\n",
    "    (df_featured[\"OnlineSecurity\"] == \"Yes\") & (df_featured[\"TechSupport\"] == \"Yes\")\n",
    ").astype(int)"
   ]
  },
  {
   "cell_type": "markdown",
   "id": "0d2f4cf2",
   "metadata": {},
   "source": [
    "Feature 6: Contract Duration in Months\n"
   ]
  },
  {
   "cell_type": "code",
   "execution_count": null,
   "id": "e8347561",
   "metadata": {},
   "outputs": [],
   "source": [
    "contract_map = {\"Month-to-month\": 1, \"One year\": 12, \"Two year\": 24}\n",
    "df_featured[\"ContractDuration\"] = df_featured[\"Contract\"].map(contract_map)"
   ]
  },
  {
   "cell_type": "markdown",
   "id": "1d546e59",
   "metadata": {},
   "source": [
    "Feature 7: Tenure to Contract Ratio\n"
   ]
  },
  {
   "cell_type": "code",
   "execution_count": null,
   "id": "6c4e772e",
   "metadata": {},
   "outputs": [],
   "source": [
    "df_featured[\"TenureContractRatio\"] = (\n",
    "    df_featured[\"tenure\"] / df_featured[\"ContractDuration\"]\n",
    ")"
   ]
  },
  {
   "cell_type": "code",
   "execution_count": null,
   "id": "0a9907c5",
   "metadata": {},
   "outputs": [],
   "source": [
    "display(\n",
    "    df_featured[\n",
    "        [\n",
    "            \"CLV\",\n",
    "            \"ServiceCount\",\n",
    "            \"AvgSpendPerService\",\n",
    "            \"TenureGroup\",\n",
    "            \"HasSecurityServices\",\n",
    "            \"ContractDuration\",\n",
    "            \"TenureContractRatio\",\n",
    "        ]\n",
    "    ]\n",
    ")"
   ]
  },
  {
   "cell_type": "markdown",
   "id": "ef3c1e49",
   "metadata": {},
   "source": [
    "### 5.2 Visualization of Engineered Features\n"
   ]
  },
  {
   "cell_type": "code",
   "execution_count": null,
   "id": "c93ab0d2",
   "metadata": {},
   "outputs": [],
   "source": [
    "def analyze_engineered_feature(df, feature, is_categorical=False):\n",
    "    \"\"\"\n",
    "    Analyze an engineered feature's relationship with churn\n",
    "\n",
    "    Args:\n",
    "        df: DataFrame with the data\n",
    "        feature: Feature name to analyze\n",
    "        is_categorical: Whether the feature is categorical\n",
    "    \"\"\"\n",
    "    if is_categorical:\n",
    "        churn_rate = (\n",
    "            df.groupby(feature)[CONFIG[\"target_column\"]]\n",
    "            .apply(lambda x: (x == CONFIG[\"positive_class\"]).mean() * 100)\n",
    "            .reset_index()\n",
    "        )\n",
    "        churn_rate.columns = [feature, \"Churn Rate (%)\"]\n",
    "\n",
    "        fig = px.bar(\n",
    "            churn_rate,\n",
    "            x=feature,\n",
    "            y=\"Churn Rate (%)\",\n",
    "            title=f\"Churn Rate by {feature}\",\n",
    "            color=\"Churn Rate (%)\",\n",
    "            color_continuous_scale=\"RdBu_r\",\n",
    "            template=\"plotly_white\",\n",
    "        )\n",
    "\n",
    "        fig.update_layout(\n",
    "            xaxis_title=feature,\n",
    "            yaxis_title=\"Churn Rate (%)\",\n",
    "            title_font_size=16,\n",
    "            title_x=0.5,\n",
    "        )\n",
    "    else:\n",
    "        df_temp = df.copy()\n",
    "        bins = 5\n",
    "        bin_labels = [f\"Bin {i+1}\" for i in range(bins)]\n",
    "        df_temp[f\"{feature}_bin\"], bin_edges = pd.cut(\n",
    "            df_temp[feature], bins=bins, labels=bin_labels, retbins=True\n",
    "        )\n",
    "\n",
    "        # Calculate churn rate by bin\n",
    "        churn_rate = (\n",
    "            df_temp.groupby(f\"{feature}_bin\")[CONFIG[\"target_column\"]]\n",
    "            .apply(lambda x: (x == CONFIG[\"positive_class\"]).mean() * 100)\n",
    "            .reset_index()\n",
    "        )\n",
    "        churn_rate.columns = [f\"{feature}_bin\", \"Churn Rate (%)\"]\n",
    "\n",
    "        # Add range information to bin labels for better interpretation\n",
    "        bin_ranges = [\n",
    "            f\"{bin_edges[i]:.1f}-{bin_edges[i+1]:.1f}\"\n",
    "            for i in range(len(bin_edges) - 1)\n",
    "        ]\n",
    "\n",
    "        bin_mapping = dict(zip(bin_labels, bin_ranges))\n",
    "        churn_rate[\"Bin Range\"] = churn_rate[f\"{feature}_bin\"].map(bin_mapping)\n",
    "\n",
    "        fig = px.bar(\n",
    "            churn_rate,\n",
    "            x=f\"{feature}_bin\",\n",
    "            y=\"Churn Rate (%)\",\n",
    "            title=f\"Churn Rate by {feature} (Quintiles)\",\n",
    "            color=\"Churn Rate (%)\",\n",
    "            color_continuous_scale=\"RdBu_r\",\n",
    "            template=\"plotly_white\",\n",
    "            hover_data=[\"Bin Range\"],\n",
    "        )\n",
    "\n",
    "        fig.update_layout(\n",
    "            xaxis_title=feature,\n",
    "            yaxis_title=\"Churn Rate (%)\",\n",
    "            title_font_size=16,\n",
    "            title_x=0.5,\n",
    "        )\n",
    "\n",
    "    fig.show()\n",
    "\n",
    "    if not is_categorical:\n",
    "        churned = df[df[CONFIG[\"target_column\"]] == CONFIG[\"positive_class\"]][feature]\n",
    "        retained = df[df[CONFIG[\"target_column\"]] != CONFIG[\"positive_class\"]][feature]\n",
    "\n",
    "        # Mann-Whitney U test\n",
    "        u_stat, p_value = stats.mannwhitneyu(churned, retained)\n",
    "\n",
    "        # Effect size\n",
    "        mean_diff = churned.mean() - retained.mean()\n",
    "        pooled_std = np.sqrt((churned.std() ** 2 + retained.std() ** 2) / 2)\n",
    "        cohens_d = abs(mean_diff / pooled_std)\n",
    "\n",
    "        if cohens_d < 0.2:\n",
    "            effect = \"negligible\"\n",
    "\n",
    "        elif cohens_d < 0.5:\n",
    "            effect = \"small\"\n",
    "\n",
    "        elif cohens_d < 0.8:\n",
    "            effect = \"medium\"\n",
    "\n",
    "        else:\n",
    "            effect = \"large\"\n",
    "\n",
    "        print(f\"Statistical Analysis for {feature}:\")\n",
    "        print(f\"- Mann-Whitney U Test: U = {u_stat:.2f}, p-value = {p_value:.4f}\")\n",
    "        print(f\"- Effect Size (Cohen's d): {cohens_d:.4f} - {effect} effect\")\n",
    "        print(f\"- Mean for Churned Customers: {churned.mean():.2f}\")\n",
    "        print(f\"- Mean for Retained Customers: {retained.mean():.2f}\")"
   ]
  },
  {
   "cell_type": "code",
   "execution_count": null,
   "id": "1ee44c25",
   "metadata": {},
   "outputs": [],
   "source": [
    "numerical_engineered = [\n",
    "    \"CLV\",\n",
    "    \"ServiceCount\",\n",
    "    \"AvgSpendPerService\",\n",
    "    \"TenureContractRatio\",\n",
    "]\n",
    "\n",
    "for feature in numerical_engineered:\n",
    "    analyze_engineered_feature(df_featured, feature, is_categorical=False)"
   ]
  },
  {
   "cell_type": "code",
   "execution_count": null,
   "id": "8106705a",
   "metadata": {},
   "outputs": [],
   "source": [
    "analyze_engineered_feature(df_featured, \"TenureGroup\", is_categorical=True)"
   ]
  },
  {
   "cell_type": "code",
   "execution_count": null,
   "id": "f1a2e547",
   "metadata": {},
   "outputs": [],
   "source": [
    "analyze_engineered_feature(df_featured, \"HasSecurityServices\", is_categorical=True)"
   ]
  },
  {
   "cell_type": "markdown",
   "id": "5d03d2a3",
   "metadata": {},
   "source": [
    "## 6.0 Customer Segmentation Analysis\n"
   ]
  },
  {
   "cell_type": "code",
   "execution_count": null,
   "id": "365ad32c",
   "metadata": {},
   "outputs": [],
   "source": [
    "cluster_features = [\n",
    "    \"tenure\",\n",
    "    \"MonthlyCharges\",\n",
    "    \"CLV\",\n",
    "    \"ServiceCount\",\n",
    "    \"AvgSpendPerService\",\n",
    "]"
   ]
  },
  {
   "cell_type": "code",
   "execution_count": null,
   "id": "1f631eb0",
   "metadata": {},
   "outputs": [],
   "source": [
    "X_cluster = df_featured[cluster_features].copy()"
   ]
  },
  {
   "cell_type": "markdown",
   "id": "07d90b58",
   "metadata": {},
   "source": [
    "Standardize the data\n"
   ]
  },
  {
   "cell_type": "code",
   "execution_count": null,
   "id": "22b072da",
   "metadata": {},
   "outputs": [],
   "source": [
    "scaler = StandardScaler()\n",
    "X_scaled = scaler.fit_transform(X_cluster)"
   ]
  },
  {
   "cell_type": "markdown",
   "id": "1810cb59",
   "metadata": {},
   "source": [
    "Determine the optimal number of clusters using the elbow method\n"
   ]
  },
  {
   "cell_type": "code",
   "execution_count": null,
   "id": "95aa6d3f",
   "metadata": {},
   "outputs": [],
   "source": [
    "wcss = []\n",
    "for i in range(1, 11):\n",
    "    kmeans = KMeans(n_clusters=i, random_state=CONFIG[\"random_seed\"], n_init=10)\n",
    "    kmeans.fit(X_scaled)\n",
    "    wcss.append(kmeans.inertia_)"
   ]
  },
  {
   "cell_type": "markdown",
   "id": "cbd2c2f7",
   "metadata": {},
   "source": [
    "Plot the elbow curve\n"
   ]
  },
  {
   "cell_type": "code",
   "execution_count": null,
   "id": "15b9a8c7",
   "metadata": {},
   "outputs": [],
   "source": [
    "plt.figure(figsize=(10, 6))\n",
    "plt.plot(range(1, 11), wcss, marker=\"o\", linestyle=\"-\")\n",
    "\n",
    "plt.title(\"Elbow Method for Optimal k\", fontsize=16)\n",
    "plt.xlabel(\"Number of Clusters\", fontsize=14)\n",
    "plt.ylabel(\"WCSS (Within-Cluster Sum of Squares)\", fontsize=14)\n",
    "plt.grid(True, alpha=0.3)\n",
    "\n",
    "plt.tight_layout()\n",
    "plt.show()"
   ]
  },
  {
   "cell_type": "markdown",
   "id": "257f41f9",
   "metadata": {},
   "source": [
    "Apply K-means with optimal number of clusters\n"
   ]
  },
  {
   "cell_type": "code",
   "execution_count": null,
   "id": "02643905",
   "metadata": {},
   "outputs": [],
   "source": [
    "n_clusters = 4\n",
    "kmeans = KMeans(n_clusters=n_clusters, random_state=CONFIG[\"random_seed\"], n_init=10)"
   ]
  },
  {
   "cell_type": "code",
   "execution_count": null,
   "id": "1c1e49c0",
   "metadata": {},
   "outputs": [],
   "source": [
    "clusters = kmeans.fit_predict(X_scaled)\n",
    "df_featured[\"Cluster\"] = clusters"
   ]
  },
  {
   "cell_type": "markdown",
   "id": "7a40dc79",
   "metadata": {},
   "source": [
    "Add cluster labels to the dataset\n"
   ]
  },
  {
   "cell_type": "code",
   "execution_count": null,
   "id": "2c9db7ea",
   "metadata": {},
   "outputs": [],
   "source": [
    "cluster_analysis = (\n",
    "    df_featured.groupby(\"Cluster\")\n",
    "    .agg(\n",
    "        {\n",
    "            \"tenure\": \"mean\",\n",
    "            \"MonthlyCharges\": \"mean\",\n",
    "            \"TotalCharges\": \"mean\",\n",
    "            \"CLV\": \"mean\",\n",
    "            \"ServiceCount\": \"mean\",\n",
    "            \"AvgSpendPerService\": \"mean\",\n",
    "            \"HasSecurityServices\": \"mean\",\n",
    "            \"ContractDuration\": \"mean\",\n",
    "            \"TenureContractRatio\": \"mean\",\n",
    "            CONFIG[\"target_column\"]: lambda x: (x == CONFIG[\"positive_class\"]).mean()\n",
    "            * 100,\n",
    "        }\n",
    "    )\n",
    "    .round(2)\n",
    ")"
   ]
  },
  {
   "cell_type": "markdown",
   "id": "67c32cb5",
   "metadata": {},
   "source": [
    "Rename the Churn column for clarity"
   ]
  },
  {
   "cell_type": "code",
   "execution_count": null,
   "id": "f1089fca",
   "metadata": {},
   "outputs": [],
   "source": [
    "cluster_analysis.rename(\n",
    "    columns={CONFIG[\"target_column\"]: \"Churn Rate (%)\"}, inplace=True\n",
    ")"
   ]
  },
  {
   "cell_type": "markdown",
   "id": "0df0c439",
   "metadata": {},
   "source": [
    "Get cluster sizes"
   ]
  },
  {
   "cell_type": "code",
   "execution_count": null,
   "id": "b4328673",
   "metadata": {},
   "outputs": [],
   "source": [
    "cluster_sizes = df_featured[\"Cluster\"].value_counts().reset_index()\n",
    "cluster_sizes.columns = [\"Cluster\", \"Count\"]\n",
    "cluster_sizes[\"Percentage\"] = (cluster_sizes[\"Count\"] / len(df_featured) * 100).round(2)"
   ]
  },
  {
   "cell_type": "markdown",
   "id": "9d37db40",
   "metadata": {},
   "source": [
    "### 6.1 Display Cluster Analysis"
   ]
  },
  {
   "cell_type": "code",
   "execution_count": null,
   "id": "c8995ec3",
   "metadata": {},
   "outputs": [],
   "source": [
    "display(cluster_analysis)"
   ]
  },
  {
   "cell_type": "code",
   "execution_count": null,
   "id": "89814325",
   "metadata": {},
   "outputs": [],
   "source": [
    "display(cluster_sizes)"
   ]
  },
  {
   "cell_type": "markdown",
   "id": "bdae4dc3",
   "metadata": {},
   "source": [
    "### 6.2 Visualize Clusters using PCA"
   ]
  },
  {
   "cell_type": "code",
   "execution_count": null,
   "id": "87d97d6e",
   "metadata": {},
   "outputs": [],
   "source": [
    "pca = PCA(n_components=2)\n",
    "X_pca = pca.fit_transform(X_scaled)"
   ]
  },
  {
   "cell_type": "code",
   "execution_count": null,
   "id": "9a79b553",
   "metadata": {},
   "outputs": [],
   "source": [
    "pca_df = pd.DataFrame({\n",
    "    'PCA1': X_pca[:, 0],\n",
    "    'PCA2': X_pca[:, 1],\n",
    "    'Cluster': clusters.astype(str),  \n",
    "    'Churn': df_featured[CONFIG['target_column']]\n",
    "})"
   ]
  },
  {
   "cell_type": "code",
   "execution_count": null,
   "id": "7e9e3434",
   "metadata": {},
   "outputs": [],
   "source": [
    "fig = px.scatter(\n",
    "    pca_df,\n",
    "    x=\"PCA1\",\n",
    "    y=\"PCA2\",\n",
    "    color=\"Cluster\",\n",
    "    symbol=\"Churn\",\n",
    "    title=\"Customer Segments Visualization\",\n",
    "    labels={\n",
    "        \"PCA1\": f\"Principal Component 1 ({pca.explained_variance_ratio_[0]:.2%})\",\n",
    "        \"PCA2\": f\"Principal Component 2 ({pca.explained_variance_ratio_[1]:.2%})\",\n",
    "    },\n",
    "    template=\"plotly_white\",\n",
    ")\n",
    "\n",
    "fig.update_layout(\n",
    "    title_font_size=16, title_x=0.5, legend_title_text=\"Cluster\", width=900, height=700\n",
    ")\n",
    "\n",
    "fig.show()"
   ]
  },
  {
   "cell_type": "markdown",
   "id": "0683b27e",
   "metadata": {},
   "source": [
    "### 6.3 Analyze Churn Rate by Cluster"
   ]
  },
  {
   "cell_type": "code",
   "execution_count": null,
   "id": "ce5bf5a4",
   "metadata": {},
   "outputs": [],
   "source": [
    "churn_by_cluster = (\n",
    "    df_featured.groupby(\"Cluster\")[CONFIG[\"target_column\"]]\n",
    "    .apply(lambda x: (x == CONFIG[\"positive_class\"]).mean() * 100)\n",
    "    .reset_index()\n",
    ")\n",
    "\n",
    "churn_by_cluster.columns = [\"Cluster\", \"Churn Rate (%)\"]"
   ]
  },
  {
   "cell_type": "code",
   "execution_count": null,
   "id": "deee3e55",
   "metadata": {},
   "outputs": [],
   "source": [
    "churn_by_cluster[\"Cluster\"] = churn_by_cluster[\"Cluster\"].astype(str)"
   ]
  },
  {
   "cell_type": "code",
   "execution_count": null,
   "id": "be9e07c6",
   "metadata": {},
   "outputs": [],
   "source": [
    "fig = px.bar(\n",
    "    churn_by_cluster,\n",
    "    x=\"Cluster\",\n",
    "    y=\"Churn Rate (%)\",\n",
    "    title=\"Churn Rate by Customer Segment\",\n",
    "    color=\"Churn Rate (%)\",\n",
    "    color_continuous_scale=\"RdBu_r\",\n",
    "    template=\"plotly_white\",\n",
    ")\n",
    "\n",
    "fig.update_layout(\n",
    "    title_font_size=16,\n",
    "    title_x=0.5,\n",
    "    xaxis_title=\"Customer Segment\",\n",
    "    yaxis_title=\"Churn Rate (%)\",\n",
    ")\n",
    "\n",
    "fig.update_traces(texttemplate=\"%{y:.1f}%\", textposition=\"outside\")\n",
    "fig.show()"
   ]
  }
 ],
 "metadata": {
  "kernelspec": {
   "display_name": "churn_sense",
   "language": "python",
   "name": "python3"
  },
  "language_info": {
   "codemirror_mode": {
    "name": "ipython",
    "version": 3
   },
   "file_extension": ".py",
   "mimetype": "text/x-python",
   "name": "python",
   "nbconvert_exporter": "python",
   "pygments_lexer": "ipython3",
   "version": "3.11.12"
  }
 },
 "nbformat": 4,
 "nbformat_minor": 5
}
